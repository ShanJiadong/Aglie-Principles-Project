{
 "cells": [
  {
   "cell_type": "code",
   "execution_count": null,
   "metadata": {
    "collapsed": true
   },
   "outputs": [],
   "source": [
    "import plotly.plotly as py\n",
    "import pandas as pd\n",
    "import numpy as np\n",
    "from plotly.offline import download_plotlyjs, init_notebook_mode, plot, iplot\n",
    "from plotly.graph_objs import *\n",
    "\n",
    "trainFile = \"C:/Users/john/Desktop/directory.csv\"\n",
    "\n",
    "df = pd.read_csv(trainFile)\n",
    "\n",
    "country_sum = []\n",
    "\n",
    "mylist = list(df.Country)\n",
    "\n",
    "myset = list(set(df.Country))\n",
    "for item in myset:\n",
    "  country_sum.append(mylist.count(item))\n",
    "\n",
    "data = [Bar(x=myset,\n",
    "            y=country_sum)]\n",
    "\n",
    "plot(data)"
   ]
  }
 ],
 "metadata": {
  "kernelspec": {
   "display_name": "Python 2",
   "language": "python",
   "name": "python2"
  },
  "language_info": {
   "codemirror_mode": {
    "name": "ipython",
    "version": 2
   },
   "file_extension": ".py",
   "mimetype": "text/x-python",
   "name": "python",
   "nbconvert_exporter": "python",
   "pygments_lexer": "ipython2",
   "version": "2.7.6"
  }
 },
 "nbformat": 4,
 "nbformat_minor": 0
}
