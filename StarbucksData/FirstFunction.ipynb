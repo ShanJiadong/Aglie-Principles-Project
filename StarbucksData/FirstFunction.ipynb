{
 "cells": [
  {
   "cell_type": "code",
   "execution_count": null,
   "metadata": {
    "collapsed": true
   },
   "outputs": [],
   "source": [
    "import plotly.plotly as py\n",
    "import pandas as pd\n",
    "from plotly.offline import download_plotlyjs, init_notebook_mode, plot, iplot\n",
    "from plotly.graph_objs import *\n",
    "\n",
    "mapbox_access_token = 'pk.eyJ1IjoiZ29yZG9uMTIzIiwiYSI6ImNqZXprem81azA4eWwzMHVwZjM5eTJ4djkifQ.5kuJJ9yuIuVuUGG_XBdN2g'\n",
    "\n",
    "trainFile = \"C:/Users/john/Desktop/directory.csv\"\n",
    "\n",
    "df = pd.read_csv(trainFile)\n",
    "\n",
    "data = Data([\n",
    "    Scattermapbox(\n",
    "        lat=df.Latitude,\n",
    "        lon=df.Longitude,\n",
    "        mode='markers',\n",
    "        marker=Marker(\n",
    "            size=9\n",
    "        ),\n",
    "        text=df.StoreName+','+df.StoreNumber+','\n",
    "        +'address:'+df.StreetAddress+' '+df.City+' '\n",
    "        +df.StateProvince+' '+df.Country+','+df.Postcode\n",
    "        +','+df.PhoneNumber,\n",
    "    )\n",
    "])\n",
    "layout = Layout(\n",
    "    autosize=True,\n",
    "    hovermode='closest',\n",
    "    mapbox=dict(\n",
    "        accesstoken=mapbox_access_token,\n",
    "        bearing=0,\n",
    "        center=dict(\n",
    "            lat=38.92,\n",
    "            lon=-77.07\n",
    "        ),\n",
    "        pitch=0,\n",
    "        zoom=10\n",
    "    ),\n",
    ")\n",
    "\n",
    "fig = dict(data=data, layout=layout)\n",
    "plot(fig)"
   ]
  }
 ],
 "metadata": {
  "kernelspec": {
   "display_name": "Python 2",
   "language": "python",
   "name": "python2"
  },
  "language_info": {
   "codemirror_mode": {
    "name": "ipython",
    "version": 2
   },
   "file_extension": ".py",
   "mimetype": "text/x-python",
   "name": "python",
   "nbconvert_exporter": "python",
   "pygments_lexer": "ipython2",
   "version": "2.7.6"
  }
 },
 "nbformat": 4,
 "nbformat_minor": 0
}
